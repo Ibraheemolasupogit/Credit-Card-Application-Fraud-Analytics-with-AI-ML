{
 "cells": [
  {
   "cell_type": "code",
   "execution_count": 1,
   "id": "765cde57",
   "metadata": {},
   "outputs": [],
   "source": [
    "import pandas as pd\n",
    "import matplotlib.pyplot as plt"
   ]
  },
  {
   "cell_type": "code",
   "execution_count": 2,
   "id": "e4acc162",
   "metadata": {},
   "outputs": [],
   "source": [
    "df = pd.read_excel('nn_TryBestNumVars.xlsx')"
   ]
  },
  {
   "cell_type": "code",
   "execution_count": 3,
   "id": "1e41701a",
   "metadata": {},
   "outputs": [
    {
     "data": {
      "text/html": [
       "<div>\n",
       "<style scoped>\n",
       "    .dataframe tbody tr th:only-of-type {\n",
       "        vertical-align: middle;\n",
       "    }\n",
       "\n",
       "    .dataframe tbody tr th {\n",
       "        vertical-align: top;\n",
       "    }\n",
       "\n",
       "    .dataframe thead th {\n",
       "        text-align: right;\n",
       "    }\n",
       "</style>\n",
       "<table border=\"1\" class=\"dataframe\">\n",
       "  <thead>\n",
       "    <tr style=\"text-align: right;\">\n",
       "      <th></th>\n",
       "      <th>Unnamed: 0</th>\n",
       "      <th>num_vars</th>\n",
       "      <th>hidden_layer_size</th>\n",
       "      <th>max_iter</th>\n",
       "      <th>learning_rate</th>\n",
       "      <th>train</th>\n",
       "      <th>test</th>\n",
       "      <th>oot</th>\n",
       "      <th>Unnamed: 8</th>\n",
       "      <th>Unnamed: 9</th>\n",
       "      <th>Unnamed: 10</th>\n",
       "    </tr>\n",
       "  </thead>\n",
       "  <tbody>\n",
       "    <tr>\n",
       "      <th>0</th>\n",
       "      <td>0</td>\n",
       "      <td>1</td>\n",
       "      <td>(20, 10)</td>\n",
       "      <td>50</td>\n",
       "      <td>invscaling</td>\n",
       "      <td>51.24</td>\n",
       "      <td>51.36</td>\n",
       "      <td>49.44</td>\n",
       "      <td>NaN</td>\n",
       "      <td>NaN</td>\n",
       "      <td>NaN</td>\n",
       "    </tr>\n",
       "    <tr>\n",
       "      <th>1</th>\n",
       "      <td>1</td>\n",
       "      <td>2</td>\n",
       "      <td>(20, 10)</td>\n",
       "      <td>50</td>\n",
       "      <td>invscaling</td>\n",
       "      <td>55.60</td>\n",
       "      <td>55.10</td>\n",
       "      <td>53.62</td>\n",
       "      <td>NaN</td>\n",
       "      <td>NaN</td>\n",
       "      <td>NaN</td>\n",
       "    </tr>\n",
       "    <tr>\n",
       "      <th>2</th>\n",
       "      <td>2</td>\n",
       "      <td>3</td>\n",
       "      <td>(20, 10)</td>\n",
       "      <td>50</td>\n",
       "      <td>invscaling</td>\n",
       "      <td>55.49</td>\n",
       "      <td>55.66</td>\n",
       "      <td>53.72</td>\n",
       "      <td>NaN</td>\n",
       "      <td>NaN</td>\n",
       "      <td>NaN</td>\n",
       "    </tr>\n",
       "    <tr>\n",
       "      <th>3</th>\n",
       "      <td>3</td>\n",
       "      <td>4</td>\n",
       "      <td>(20, 10)</td>\n",
       "      <td>50</td>\n",
       "      <td>invscaling</td>\n",
       "      <td>55.81</td>\n",
       "      <td>55.26</td>\n",
       "      <td>53.67</td>\n",
       "      <td>NaN</td>\n",
       "      <td>NaN</td>\n",
       "      <td>NaN</td>\n",
       "    </tr>\n",
       "    <tr>\n",
       "      <th>4</th>\n",
       "      <td>4</td>\n",
       "      <td>5</td>\n",
       "      <td>(20, 10)</td>\n",
       "      <td>50</td>\n",
       "      <td>invscaling</td>\n",
       "      <td>55.89</td>\n",
       "      <td>55.17</td>\n",
       "      <td>53.72</td>\n",
       "      <td>NaN</td>\n",
       "      <td>NaN</td>\n",
       "      <td>NaN</td>\n",
       "    </tr>\n",
       "  </tbody>\n",
       "</table>\n",
       "</div>"
      ],
      "text/plain": [
       "   Unnamed: 0  num_vars hidden_layer_size  max_iter learning_rate  train  \\\n",
       "0           0         1          (20, 10)        50    invscaling  51.24   \n",
       "1           1         2          (20, 10)        50    invscaling  55.60   \n",
       "2           2         3          (20, 10)        50    invscaling  55.49   \n",
       "3           3         4          (20, 10)        50    invscaling  55.81   \n",
       "4           4         5          (20, 10)        50    invscaling  55.89   \n",
       "\n",
       "    test    oot  Unnamed: 8  Unnamed: 9 Unnamed: 10  \n",
       "0  51.36  49.44         NaN         NaN         NaN  \n",
       "1  55.10  53.62         NaN         NaN         NaN  \n",
       "2  55.66  53.72         NaN         NaN         NaN  \n",
       "3  55.26  53.67         NaN         NaN         NaN  \n",
       "4  55.17  53.72         NaN         NaN         NaN  "
      ]
     },
     "execution_count": 3,
     "metadata": {},
     "output_type": "execute_result"
    }
   ],
   "source": [
    "df.head()"
   ]
  },
  {
   "cell_type": "code",
   "execution_count": 9,
   "id": "edf0d5f1",
   "metadata": {},
   "outputs": [
    {
     "data": {
      "text/plain": [
       "1     53.62\n",
       "2     53.72\n",
       "3     53.67\n",
       "4     53.72\n",
       "5     53.52\n",
       "6     53.56\n",
       "7     53.59\n",
       "8     53.51\n",
       "9     53.58\n",
       "10    53.63\n",
       "11    53.56\n",
       "12    53.56\n",
       "13    53.59\n",
       "14    53.52\n",
       "15    53.53\n",
       "16    53.53\n",
       "17    53.58\n",
       "18    53.53\n",
       "19    53.55\n",
       "Name: oot, dtype: float64"
      ]
     },
     "execution_count": 9,
     "metadata": {},
     "output_type": "execute_result"
    }
   ],
   "source": [
    "df['oot'].iloc[1:]\n",
    "df[]"
   ]
  },
  {
   "cell_type": "code",
   "execution_count": 29,
   "id": "3f876339",
   "metadata": {},
   "outputs": [
    {
     "data": {
      "image/png": "[encoded data removed]",
      "text/plain": [
       "<Figure size 432x288 with 1 Axes>"
      ]
     },
     "metadata": {
      "needs_background": "light"
     },
     "output_type": "display_data"
    }
   ],
   "source": [
    "plt.plot(df['num_vars'].iloc[1:],df['oot'].iloc[1:])\n",
    "plt.xticks([i for i in range(2,21)])\n",
    "plt.ylim([53.5,53.75])\n",
    "plt.xlim([2,21])\n",
    "plt.vlines(x=8,ymax=53.59,ymin=53.49,colors='red',linestyles='--')\n",
    "plt.hlines(xmin=2,xmax=8,y=53.59,colors='red',linestyles='--')\n",
    "plt.title('Choose the Best Number of Variables')\n",
    "plt.xlabel('Number of Variables')\n",
    "plt.ylabel('OOT Score')\n",
    "plt.show()"
   ]
  },
  {
   "cell_type": "code",
   "execution_count": null,
   "id": "239a6b8d",
   "metadata": {},
   "outputs": [],
   "source": []
  }
 ],
 "metadata": {
  "kernelspec": {
   "display_name": "Python 3 (ipykernel)",
   "language": "python",
   "name": "python3"
  },
  "language_info": {
   "codemirror_mode": {
    "name": "ipython",
    "version": 3
   },
   "file_extension": ".py",
   "mimetype": "text/x-python",
   "name": "python",
   "nbconvert_exporter": "python",
   "pygments_lexer": "ipython3",
   "version": "3.8.12"
  },
  "toc": {
   "base_numbering": 1,
   "nav_menu": {},
   "number_sections": true,
   "sideBar": true,
   "skip_h1_title": false,
   "title_cell": "Table of Contents",
   "title_sidebar": "Contents",
   "toc_cell": false,
   "toc_position": {},
   "toc_section_display": true,
   "toc_window_display": false
  },
  "varInspector": {
   "cols": {
    "lenName": 16,
    "lenType": 16,
    "lenVar": 40
   },
   "kernels_config": {
    "python": {
     "delete_cmd_postfix": "",
     "delete_cmd_prefix": "del ",
     "library": "var_list.py",
     "varRefreshCmd": "print(var_dic_list())"
    },
    "r": {
     "delete_cmd_postfix": ") ",
     "delete_cmd_prefix": "rm(",
     "library": "var_list.r",
     "varRefreshCmd": "cat(var_dic_list()) "
    }
   },
   "types_to_exclude": [
    "module",
    "function",
    "builtin_function_or_method",
    "instance",
    "_Feature"
   ],
   "window_display": false
  }
 },
 "nbformat": 4,
 "nbformat_minor": 5
}
